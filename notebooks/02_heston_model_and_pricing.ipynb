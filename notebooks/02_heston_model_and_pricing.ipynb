{
  "cells": [
    {
      "cell_type": "markdown",
      "metadata": {},
      "source": [
        "# Notebook 02: Heston Model and Analytical Pricing Methods\n",
        "\n",
        "This notebook demonstrates the Heston stochastic volatility model and various analytical pricing methods for European options. We'll cover:\n",
        "\n",
        "1. **Heston Model Implementation** - Stochastic volatility model with characteristic function\n",
        "2. **COS Method** - Fourier-Cosine series expansion for option pricing\n",
        "3. **Fourier Transform Method** - Fast Fourier Transform approach\n",
        "4. **Monte Carlo Simulation** - Numerical simulation for pricing\n",
        "5. **Black-Scholes Comparison** - Traditional constant volatility model\n",
        "6. **Performance Analysis** - Speed and accuracy comparisons\n",
        "\n",
        "## Heston Model\n",
        "\n",
        "The Heston model describes the evolution of asset price $S_t$ and variance $v_t$:\n",
        "\n",
        "$$dS_t = rS_t dt + \\sqrt{v_t}S_t dW_1^t$$\n",
        "\n",
        "$$dv_t = \\kappa(\\theta - v_t)dt + \\sigma\\sqrt{v_t}dW_2^t$$\n",
        "\n",
        "Where:\n",
        "- $r$: Risk-free rate\n",
        "- $\\kappa$: Mean reversion speed\n",
        "- $\\theta$: Long-term variance\n",
        "- $\\sigma$: Volatility of variance\n",
        "- $\\rho$: Correlation between $W_1^t$ and $W_2^t$\n"
      ]
    },
    {
      "cell_type": "code",
      "execution_count": 2,
      "metadata": {},
      "outputs": [
        {
          "name": "stdout",
          "output_type": "stream",
          "text": [
            "   - HestonModel: Stochastic volatility model\n",
            "   - COSPricer: Fourier-Cosine method\n",
            "   - FourierPricer: Fast Fourier Transform\n",
            "   - MonteCarlo: Monte Carlo simulation\n",
            "   - BlackScholes: Traditional constant volatility model\n"
          ]
        }
      ],
      "source": [
        "# Import necessary libraries\n",
        "import numpy as np\n",
        "import matplotlib.pyplot as plt\n",
        "import time\n",
        "import pandas as pd\n",
        "from scipy.optimize import minimize_scalar\n",
        "import warnings\n",
        "warnings.filterwarnings('ignore')\n",
        "\n",
        "# Import our pricing implementations\n",
        "import sys\n",
        "sys.path.append('../src')\n",
        "\n",
        "from elm.models.pricing.models.heston import HestonModel\n",
        "from elm.models.pricing.methods.cos import COSPricer\n",
        "from elm.models.pricing.methods.fourier import FourierPricer\n",
        "from elm.models.pricing.methods.monte_carlo import MonteCarlo\n",
        "from elm.models.pricing.methods.black_scholes import BlackScholes\n",
        "\n",
        "# Set random seed for reproducibility\n",
        "np.random.seed(42)\n",
        "\n",
        "print(\"   - HestonModel: Stochastic volatility model\")\n",
        "print(\"   - COSPricer: Fourier-Cosine method\")\n",
        "print(\"   - FourierPricer: Fast Fourier Transform\")\n",
        "print(\"   - MonteCarlo: Monte Carlo simulation\")\n",
        "print(\"   - BlackScholes: Traditional constant volatility model\")\n"
      ]
    },
    {
      "cell_type": "markdown",
      "metadata": {},
      "source": []
    },
    {
      "cell_type": "code",
      "execution_count": 3,
      "metadata": {},
      "outputs": [
        {
          "name": "stdout",
          "output_type": "stream",
          "text": [
            "   Spot Price (S0): 100.0\n",
            "   Strike Price (K): 105.0\n",
            "   Time to Maturity (T): 1.0\n",
            "   Risk-free Rate (r): 0.05\n",
            "   Dividend Yield (q): 0.02\n",
            "   Initial Variance (v0): 0.04\n",
            "   Long-term Variance (θ): 0.04\n",
            "   Mean Reversion (κ): 2.0\n",
            "   Vol of Vol (σ): 0.3\n",
            "   Correlation (ρ): -0.7\n",
            "   Characteristic function available: True\n",
            "   Characteristic function test: φ((1+0.5j), 1.0) = -0.011500-0.097066j\n"
          ]
        }
      ],
      "source": [
        "# 1. Heston Model Implementation\n",
        "\n",
        "# Define typical market parameters\n",
        "S0 = 100.0      # Initial stock price\n",
        "K = 105.0       # Strike price\n",
        "T = 1.0         # Time to maturity (1 year)\n",
        "r = 0.05        # Risk-free rate\n",
        "q = 0.02        # Dividend yield\n",
        "\n",
        "# Heston model parameters\n",
        "v0 = 0.04       # Initial variance (20% vol)\n",
        "theta = 0.04    # Long-term variance (20% vol)\n",
        "kappa = 2.0     # Mean reversion speed\n",
        "sigma = 0.3     # Volatility of variance\n",
        "rho = -0.7      # Correlation\n",
        "\n",
        "print(f\"   Spot Price (S0): {S0}\")\n",
        "print(f\"   Strike Price (K): {K}\")\n",
        "print(f\"   Time to Maturity (T): {T}\")\n",
        "print(f\"   Risk-free Rate (r): {r}\")\n",
        "print(f\"   Dividend Yield (q): {q}\")\n",
        "\n",
        "print(f\"   Initial Variance (v0): {v0}\")\n",
        "print(f\"   Long-term Variance (θ): {theta}\")\n",
        "print(f\"   Mean Reversion (κ): {kappa}\")\n",
        "print(f\"   Vol of Vol (σ): {sigma}\")\n",
        "print(f\"   Correlation (ρ): {rho}\")\n",
        "\n",
        "# Create Heston model\n",
        "heston_model = HestonModel(\n",
        "    S0=S0, r=r, q=q, v0=v0, theta=theta, \n",
        "    kappa=kappa, sigma=sigma, rho=rho\n",
        ")\n",
        "\n",
        "print(f\"   Characteristic function available: {hasattr(heston_model, 'characteristic_function')}\")\n",
        "\n",
        "# Test characteristic function\n",
        "u_test = 1.0 + 0.5j\n",
        "cf_value = heston_model.characteristic_function(u_test, T)\n",
        "print(f\"   Characteristic function test: φ({u_test}, {T}) = {cf_value:.6f}\")\n"
      ]
    },
    {
      "cell_type": "code",
      "execution_count": 12,
      "metadata": {},
      "outputs": [
        {
          "name": "stdout",
          "output_type": "stream",
          "text": [
            "   Call Option Price: 6.5348\n",
            "   Computation Time: 1.27 ms\n",
            "   Put Option Price: 8.3940\n",
            "   Put-Call Parity Check: -1.859222 (Expected: -1.859222)\n",
            "   N= 64: Price = 6.534791\n",
            "   N=128: Price = 6.534791\n",
            "   N=256: Price = 6.534791\n",
            "   N=512: Price = 6.534791\n"
          ]
        }
      ],
      "source": [
        "# 2. COS Method Pricing\n",
        "\n",
        "# Create COS pricer\n",
        "cos_pricer = COSPricer(N=256, L=10.0)\n",
        "\n",
        "# Price call option using COS method\n",
        "start_time = time.time()\n",
        "cos_price = cos_pricer.price(\n",
        "    cf=heston_model.characteristic_function,\n",
        "    K=K, T=T, r=r,\n",
        "    option_type=\"call\"\n",
        ")\n",
        "cos_time = time.time() - start_time\n",
        "\n",
        "\n",
        "print(f\"   Call Option Price: {cos_price:.4f}\")\n",
        "print(f\"   Computation Time: {cos_time*1000:.2f} ms\")\n",
        "\n",
        "# Price put option\n",
        "put_price = cos_pricer.price(\n",
        "    cf=heston_model.characteristic_function,\n",
        "    K=K, T=T, r=r,\n",
        "    option_type=\"put\"\n",
        ")\n",
        "\n",
        "print(f\"   Put Option Price: {put_price:.4f}\")\n",
        "\n",
        "# Test put-call parity\n",
        "forward_price = S0 * np.exp(-q * T) - K * np.exp(-r * T)\n",
        "put_call_parity = cos_price - put_price\n",
        "print(f\"   Put-Call Parity Check: {put_call_parity:.6f} (Expected: {forward_price:.6f})\")\n",
        "\n",
        "# Test different COS parameters\n",
        "for N in [64, 128, 256, 512]:\n",
        "    cos_test = COSPricer(N=N, L=10.0)\n",
        "    price_test = cos_pricer.price(\n",
        "    cf=heston_model.characteristic_function,\n",
        "    K=K, T=T, r=r,\n",
        "    option_type=\"call\"\n",
        ")\n",
        "    print(f\"   N={N:3d}: Price = {price_test:.6f}\")\n"
      ]
    }
  ],
  "metadata": {
    "kernelspec": {
      "display_name": "venv_arm64",
      "language": "python",
      "name": "python3"
    },
    "language_info": {
      "codemirror_mode": {
        "name": "ipython",
        "version": 3
      },
      "file_extension": ".py",
      "mimetype": "text/x-python",
      "name": "python",
      "nbconvert_exporter": "python",
      "pygments_lexer": "ipython3",
      "version": "3.13.9"
    }
  },
  "nbformat": 4,
  "nbformat_minor": 2
}
